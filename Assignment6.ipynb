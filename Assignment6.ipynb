{
  "nbformat": 4,
  "nbformat_minor": 0,
  "metadata": {
    "colab": {
      "provenance": [],
      "include_colab_link": true
    },
    "kernelspec": {
      "name": "python3",
      "display_name": "Python 3"
    },
    "language_info": {
      "name": "python"
    }
  },
  "cells": [
    {
      "cell_type": "markdown",
      "metadata": {
        "id": "view-in-github",
        "colab_type": "text"
      },
      "source": [
        "<a href=\"https://colab.research.google.com/github/satyabrata8260/DMDW-LAB/blob/main/Assignment6.ipynb\" target=\"_parent\"><img src=\"https://colab.research.google.com/assets/colab-badge.svg\" alt=\"Open In Colab\"/></a>"
      ]
    },
    {
      "cell_type": "code",
      "execution_count": null,
      "metadata": {
        "id": "URzH2lYiG2Ex"
      },
      "outputs": [],
      "source": [
        "import pandas as pd\n",
        "from mlxtend.frequent_patterns import apriori, association_rules"
      ]
    },
    {
      "cell_type": "code",
      "source": [
        "data = {\n",
        "    'Transaction_ID': ['T100', 'T200', 'T300', 'T400', 'T500'],\n",
        "    'Items_bought': [\n",
        "        {'M', 'O', 'N', 'K', 'E', 'Y'},\n",
        "        {'D', 'O', 'N', 'K', 'E', 'Y'},\n",
        "        {'M', 'A', 'K', 'E'},\n",
        "        {'M', 'U', 'C', 'K', 'Y'},\n",
        "        {'C', 'O', 'O', 'K', 'I', 'E'}\n",
        "    ]\n",
        "}\n",
        "\n",
        "df = pd.DataFrame(data)"
      ],
      "metadata": {
        "colab": {
          "base_uri": "https://localhost:8080/"
        },
        "id": "2veKyxNhHBJO",
        "outputId": "4aa1ade5-3d56-4eb3-d695-a66566da9e84"
      },
      "execution_count": null,
      "outputs": [
        {
          "output_type": "stream",
          "name": "stderr",
          "text": [
            "/usr/local/lib/python3.10/dist-packages/ipykernel/ipkernel.py:283: DeprecationWarning: `should_run_async` will not call `transform_cell` automatically in the future. Please pass the result to `transformed_cell` argument and any exception that happen during thetransform in `preprocessing_exc_tuple` in IPython 7.17 and above.\n",
            "  and should_run_async(code)\n"
          ]
        }
      ]
    },
    {
      "cell_type": "code",
      "source": [
        "df['Items_bought'] = df['Items_bought'].apply(list)"
      ],
      "metadata": {
        "colab": {
          "base_uri": "https://localhost:8080/"
        },
        "id": "LnHRpfHbHFbk",
        "outputId": "e66b9491-2357-4a4c-b1f3-70ce6df52e40"
      },
      "execution_count": null,
      "outputs": [
        {
          "output_type": "stream",
          "name": "stderr",
          "text": [
            "/usr/local/lib/python3.10/dist-packages/ipykernel/ipkernel.py:283: DeprecationWarning: `should_run_async` will not call `transform_cell` automatically in the future. Please pass the result to `transformed_cell` argument and any exception that happen during thetransform in `preprocessing_exc_tuple` in IPython 7.17 and above.\n",
            "  and should_run_async(code)\n"
          ]
        }
      ]
    },
    {
      "cell_type": "code",
      "source": [
        "oht = pd.get_dummies(df['Items_bought'].explode()).groupby(level=0).max()\n"
      ],
      "metadata": {
        "colab": {
          "base_uri": "https://localhost:8080/"
        },
        "id": "AViQ9maFHJJm",
        "outputId": "5798a675-305f-4768-ae0d-851071072844"
      },
      "execution_count": null,
      "outputs": [
        {
          "output_type": "stream",
          "name": "stderr",
          "text": [
            "/usr/local/lib/python3.10/dist-packages/ipykernel/ipkernel.py:283: DeprecationWarning: `should_run_async` will not call `transform_cell` automatically in the future. Please pass the result to `transformed_cell` argument and any exception that happen during thetransform in `preprocessing_exc_tuple` in IPython 7.17 and above.\n",
            "  and should_run_async(code)\n"
          ]
        }
      ]
    },
    {
      "cell_type": "code",
      "source": [
        "step = 1"
      ],
      "metadata": {
        "colab": {
          "base_uri": "https://localhost:8080/"
        },
        "id": "dAyVzvsqHMNo",
        "outputId": "eb0fc2b0-7305-4a89-e37d-823269f102e7"
      },
      "execution_count": null,
      "outputs": [
        {
          "output_type": "stream",
          "name": "stderr",
          "text": [
            "/usr/local/lib/python3.10/dist-packages/ipykernel/ipkernel.py:283: DeprecationWarning: `should_run_async` will not call `transform_cell` automatically in the future. Please pass the result to `transformed_cell` argument and any exception that happen during thetransform in `preprocessing_exc_tuple` in IPython 7.17 and above.\n",
            "  and should_run_async(code)\n"
          ]
        }
      ]
    },
    {
      "cell_type": "code",
      "source": [
        "print(f\"Step {step}: Count of each item (C1):\")\n",
        "c1 = oht.sum()\n",
        "print(c1)"
      ],
      "metadata": {
        "colab": {
          "base_uri": "https://localhost:8080/"
        },
        "id": "RTTJlmpfHQIA",
        "outputId": "a7e74f27-c258-4f8b-cec3-f65c506931a4"
      },
      "execution_count": null,
      "outputs": [
        {
          "output_type": "stream",
          "name": "stdout",
          "text": [
            "Step 1: Count of each item (C1):\n",
            "A    1\n",
            "C    2\n",
            "D    1\n",
            "E    4\n",
            "I    1\n",
            "K    5\n",
            "M    3\n",
            "N    2\n",
            "O    3\n",
            "U    1\n",
            "Y    3\n",
            "dtype: int64\n"
          ]
        },
        {
          "output_type": "stream",
          "name": "stderr",
          "text": [
            "/usr/local/lib/python3.10/dist-packages/ipykernel/ipkernel.py:283: DeprecationWarning: `should_run_async` will not call `transform_cell` automatically in the future. Please pass the result to `transformed_cell` argument and any exception that happen during thetransform in `preprocessing_exc_tuple` in IPython 7.17 and above.\n",
            "  and should_run_async(code)\n"
          ]
        }
      ]
    },
    {
      "cell_type": "code",
      "source": [
        "step += 1"
      ],
      "metadata": {
        "colab": {
          "base_uri": "https://localhost:8080/"
        },
        "id": "nsNy0K0DHUGx",
        "outputId": "a366ce6f-a336-48b4-adb9-ebdc62d1aa97"
      },
      "execution_count": null,
      "outputs": [
        {
          "output_type": "stream",
          "name": "stderr",
          "text": [
            "/usr/local/lib/python3.10/dist-packages/ipykernel/ipkernel.py:283: DeprecationWarning: `should_run_async` will not call `transform_cell` automatically in the future. Please pass the result to `transformed_cell` argument and any exception that happen during thetransform in `preprocessing_exc_tuple` in IPython 7.17 and above.\n",
            "  and should_run_async(code)\n"
          ]
        }
      ]
    },
    {
      "cell_type": "code",
      "source": [
        "min_support = 0.6\n",
        "print(f\"\\nStep {step}: Frequent one-itemset (L1) with support >= {min_support}:\")\n",
        "l1 = c1[c1 >= min_support]\n",
        "print(l1)"
      ],
      "metadata": {
        "colab": {
          "base_uri": "https://localhost:8080/"
        },
        "id": "vZvMXYbgHYL6",
        "outputId": "ca203cf7-f3f7-4c30-cc94-070f1a5dd9f1"
      },
      "execution_count": null,
      "outputs": [
        {
          "output_type": "stream",
          "name": "stdout",
          "text": [
            "\n",
            "Step 2: Frequent one-itemset (L1) with support >= 0.6:\n",
            "A    1\n",
            "C    2\n",
            "D    1\n",
            "E    4\n",
            "I    1\n",
            "K    5\n",
            "M    3\n",
            "N    2\n",
            "O    3\n",
            "U    1\n",
            "Y    3\n",
            "dtype: int64\n"
          ]
        },
        {
          "output_type": "stream",
          "name": "stderr",
          "text": [
            "/usr/local/lib/python3.10/dist-packages/ipykernel/ipkernel.py:283: DeprecationWarning: `should_run_async` will not call `transform_cell` automatically in the future. Please pass the result to `transformed_cell` argument and any exception that happen during thetransform in `preprocessing_exc_tuple` in IPython 7.17 and above.\n",
            "  and should_run_async(code)\n"
          ]
        }
      ]
    },
    {
      "cell_type": "code",
      "source": [
        "step += 1"
      ],
      "metadata": {
        "colab": {
          "base_uri": "https://localhost:8080/"
        },
        "id": "-wdQiuIyHcVO",
        "outputId": "d0e5c441-bdaf-44e2-f87e-60dcc6f95282"
      },
      "execution_count": null,
      "outputs": [
        {
          "output_type": "stream",
          "name": "stderr",
          "text": [
            "/usr/local/lib/python3.10/dist-packages/ipykernel/ipkernel.py:283: DeprecationWarning: `should_run_async` will not call `transform_cell` automatically in the future. Please pass the result to `transformed_cell` argument and any exception that happen during thetransform in `preprocessing_exc_tuple` in IPython 7.17 and above.\n",
            "  and should_run_async(code)\n"
          ]
        }
      ]
    },
    {
      "cell_type": "code",
      "source": [
        "print(f\"\\nStep {step}: Generating two-itemsets (C2):\")\n",
        "c2 = apriori(oht, min_support=min_support, use_colnames=True)\n",
        "print(c2)"
      ],
      "metadata": {
        "colab": {
          "base_uri": "https://localhost:8080/"
        },
        "id": "vkSKh6oxHiEv",
        "outputId": "bd9ad7b7-0099-447d-fd15-b3f72590fcfb"
      },
      "execution_count": null,
      "outputs": [
        {
          "output_type": "stream",
          "name": "stdout",
          "text": [
            "\n",
            "Step 3: Generating two-itemsets (C2):\n",
            "    support   itemsets\n",
            "0       0.8        (E)\n",
            "1       1.0        (K)\n",
            "2       0.6        (M)\n",
            "3       0.6        (O)\n",
            "4       0.6        (Y)\n",
            "5       0.8     (K, E)\n",
            "6       0.6     (E, O)\n",
            "7       0.6     (K, M)\n",
            "8       0.6     (K, O)\n",
            "9       0.6     (K, Y)\n",
            "10      0.6  (K, E, O)\n"
          ]
        },
        {
          "output_type": "stream",
          "name": "stderr",
          "text": [
            "/usr/local/lib/python3.10/dist-packages/ipykernel/ipkernel.py:283: DeprecationWarning: `should_run_async` will not call `transform_cell` automatically in the future. Please pass the result to `transformed_cell` argument and any exception that happen during thetransform in `preprocessing_exc_tuple` in IPython 7.17 and above.\n",
            "  and should_run_async(code)\n",
            "/usr/local/lib/python3.10/dist-packages/mlxtend/frequent_patterns/fpcommon.py:110: DeprecationWarning: DataFrames with non-bool types result in worse computationalperformance and their support might be discontinued in the future.Please use a DataFrame with bool type\n",
            "  warnings.warn(\n"
          ]
        }
      ]
    },
    {
      "cell_type": "code",
      "source": [
        "step += 1"
      ],
      "metadata": {
        "colab": {
          "base_uri": "https://localhost:8080/"
        },
        "id": "E8JfKIcRHvJi",
        "outputId": "a6a108eb-84c2-406f-fe6d-b921f22a0f09"
      },
      "execution_count": null,
      "outputs": [
        {
          "output_type": "stream",
          "name": "stderr",
          "text": [
            "/usr/local/lib/python3.10/dist-packages/ipykernel/ipkernel.py:283: DeprecationWarning: `should_run_async` will not call `transform_cell` automatically in the future. Please pass the result to `transformed_cell` argument and any exception that happen during thetransform in `preprocessing_exc_tuple` in IPython 7.17 and above.\n",
            "  and should_run_async(code)\n"
          ]
        }
      ]
    },
    {
      "cell_type": "code",
      "source": [
        "print(f\"\\nStep {step}: Frequent two-itemsets (L2) with support >= {min_support}:\")\n",
        "l2 = c2[c2['support'] >= min_support]\n",
        "print(l2)"
      ],
      "metadata": {
        "colab": {
          "base_uri": "https://localhost:8080/"
        },
        "id": "wfaw4vLnHyK6",
        "outputId": "fc79ecd1-a7ee-409b-c0b6-fa52ad73769a"
      },
      "execution_count": null,
      "outputs": [
        {
          "output_type": "stream",
          "name": "stdout",
          "text": [
            "\n",
            "Step 4: Frequent two-itemsets (L2) with support >= 0.6:\n",
            "    support   itemsets\n",
            "0       0.8        (E)\n",
            "1       1.0        (K)\n",
            "2       0.6        (M)\n",
            "3       0.6        (O)\n",
            "4       0.6        (Y)\n",
            "5       0.8     (K, E)\n",
            "6       0.6     (E, O)\n",
            "7       0.6     (K, M)\n",
            "8       0.6     (K, O)\n",
            "9       0.6     (K, Y)\n",
            "10      0.6  (K, E, O)\n"
          ]
        },
        {
          "output_type": "stream",
          "name": "stderr",
          "text": [
            "/usr/local/lib/python3.10/dist-packages/ipykernel/ipkernel.py:283: DeprecationWarning: `should_run_async` will not call `transform_cell` automatically in the future. Please pass the result to `transformed_cell` argument and any exception that happen during thetransform in `preprocessing_exc_tuple` in IPython 7.17 and above.\n",
            "  and should_run_async(code)\n"
          ]
        }
      ]
    },
    {
      "cell_type": "code",
      "source": [
        "step += 1"
      ],
      "metadata": {
        "colab": {
          "base_uri": "https://localhost:8080/"
        },
        "id": "-3PqwZuOH1Qj",
        "outputId": "4ebe1cd2-b807-4ec5-c8ba-eac392cca3d3"
      },
      "execution_count": null,
      "outputs": [
        {
          "output_type": "stream",
          "name": "stderr",
          "text": [
            "/usr/local/lib/python3.10/dist-packages/ipykernel/ipkernel.py:283: DeprecationWarning: `should_run_async` will not call `transform_cell` automatically in the future. Please pass the result to `transformed_cell` argument and any exception that happen during thetransform in `preprocessing_exc_tuple` in IPython 7.17 and above.\n",
            "  and should_run_async(code)\n"
          ]
        }
      ]
    },
    {
      "cell_type": "code",
      "source": [
        "print(f\"\\nStep {step}: Generating candidates for three-itemsets (C3):\")\n",
        "c3 = apriori(oht, min_support=min_support, use_colnames=True)\n",
        "print(c3)"
      ],
      "metadata": {
        "colab": {
          "base_uri": "https://localhost:8080/"
        },
        "id": "YoQO4EAfH4gI",
        "outputId": "8fe72023-4b30-4648-d8e7-ed0a9554d883"
      },
      "execution_count": null,
      "outputs": [
        {
          "output_type": "stream",
          "name": "stdout",
          "text": [
            "\n",
            "Step 5: Generating candidates for three-itemsets (C3):\n",
            "    support   itemsets\n",
            "0       0.8        (E)\n",
            "1       1.0        (K)\n",
            "2       0.6        (M)\n",
            "3       0.6        (O)\n",
            "4       0.6        (Y)\n",
            "5       0.8     (K, E)\n",
            "6       0.6     (E, O)\n",
            "7       0.6     (K, M)\n",
            "8       0.6     (K, O)\n",
            "9       0.6     (K, Y)\n",
            "10      0.6  (K, E, O)\n"
          ]
        },
        {
          "output_type": "stream",
          "name": "stderr",
          "text": [
            "/usr/local/lib/python3.10/dist-packages/ipykernel/ipkernel.py:283: DeprecationWarning: `should_run_async` will not call `transform_cell` automatically in the future. Please pass the result to `transformed_cell` argument and any exception that happen during thetransform in `preprocessing_exc_tuple` in IPython 7.17 and above.\n",
            "  and should_run_async(code)\n",
            "/usr/local/lib/python3.10/dist-packages/mlxtend/frequent_patterns/fpcommon.py:110: DeprecationWarning: DataFrames with non-bool types result in worse computationalperformance and their support might be discontinued in the future.Please use a DataFrame with bool type\n",
            "  warnings.warn(\n"
          ]
        }
      ]
    },
    {
      "cell_type": "code",
      "source": [
        "step += 1"
      ],
      "metadata": {
        "colab": {
          "base_uri": "https://localhost:8080/"
        },
        "id": "jzOxnLZLH7-_",
        "outputId": "28effe77-fab8-4fe6-d7ad-1bd4a8354287"
      },
      "execution_count": null,
      "outputs": [
        {
          "output_type": "stream",
          "name": "stderr",
          "text": [
            "/usr/local/lib/python3.10/dist-packages/ipykernel/ipkernel.py:283: DeprecationWarning: `should_run_async` will not call `transform_cell` automatically in the future. Please pass the result to `transformed_cell` argument and any exception that happen during thetransform in `preprocessing_exc_tuple` in IPython 7.17 and above.\n",
            "  and should_run_async(code)\n"
          ]
        }
      ]
    },
    {
      "cell_type": "code",
      "source": [
        "print(f\"\\nStep {step}: Stopping as there are no candidates for three-itemsets.\")"
      ],
      "metadata": {
        "colab": {
          "base_uri": "https://localhost:8080/"
        },
        "id": "A7hH1UbZH_aW",
        "outputId": "adb717be-5f9a-44a7-962c-cb047aee86af"
      },
      "execution_count": null,
      "outputs": [
        {
          "output_type": "stream",
          "name": "stdout",
          "text": [
            "\n",
            "Step 6: Stopping as there are no candidates for three-itemsets.\n"
          ]
        },
        {
          "output_type": "stream",
          "name": "stderr",
          "text": [
            "/usr/local/lib/python3.10/dist-packages/ipykernel/ipkernel.py:283: DeprecationWarning: `should_run_async` will not call `transform_cell` automatically in the future. Please pass the result to `transformed_cell` argument and any exception that happen during thetransform in `preprocessing_exc_tuple` in IPython 7.17 and above.\n",
            "  and should_run_async(code)\n"
          ]
        }
      ]
    },
    {
      "cell_type": "code",
      "source": [
        "print(\"\\nFinal Frequent Itemsets (L2):\")\n",
        "print(l2)"
      ],
      "metadata": {
        "colab": {
          "base_uri": "https://localhost:8080/"
        },
        "id": "kiiiP4S7IA6Q",
        "outputId": "841c5330-2c26-4c6f-fe08-9404560e78bd"
      },
      "execution_count": null,
      "outputs": [
        {
          "output_type": "stream",
          "name": "stdout",
          "text": [
            "\n",
            "Final Frequent Itemsets (L2):\n",
            "    support   itemsets\n",
            "0       0.8        (E)\n",
            "1       1.0        (K)\n",
            "2       0.6        (M)\n",
            "3       0.6        (O)\n",
            "4       0.6        (Y)\n",
            "5       0.8     (K, E)\n",
            "6       0.6     (E, O)\n",
            "7       0.6     (K, M)\n",
            "8       0.6     (K, O)\n",
            "9       0.6     (K, Y)\n",
            "10      0.6  (K, E, O)\n"
          ]
        },
        {
          "output_type": "stream",
          "name": "stderr",
          "text": [
            "/usr/local/lib/python3.10/dist-packages/ipykernel/ipkernel.py:283: DeprecationWarning: `should_run_async` will not call `transform_cell` automatically in the future. Please pass the result to `transformed_cell` argument and any exception that happen during thetransform in `preprocessing_exc_tuple` in IPython 7.17 and above.\n",
            "  and should_run_async(code)\n"
          ]
        }
      ]
    },
    {
      "cell_type": "code",
      "source": [
        "min_confidence = 0.8"
      ],
      "metadata": {
        "colab": {
          "base_uri": "https://localhost:8080/"
        },
        "id": "BcVs7BDVIGDl",
        "outputId": "d7200f1f-b561-4307-9a11-8b33de53eb7b"
      },
      "execution_count": null,
      "outputs": [
        {
          "output_type": "stream",
          "name": "stderr",
          "text": [
            "/usr/local/lib/python3.10/dist-packages/ipykernel/ipkernel.py:283: DeprecationWarning: `should_run_async` will not call `transform_cell` automatically in the future. Please pass the result to `transformed_cell` argument and any exception that happen during thetransform in `preprocessing_exc_tuple` in IPython 7.17 and above.\n",
            "  and should_run_async(code)\n"
          ]
        }
      ]
    },
    {
      "cell_type": "code",
      "source": [
        "association_rules_df = association_rules(l2, metric=\"confidence\", min_threshold=min_confidence)"
      ],
      "metadata": {
        "colab": {
          "base_uri": "https://localhost:8080/"
        },
        "id": "qiA-6vulIJIv",
        "outputId": "44bfb318-a5b2-481d-c614-57059718e399"
      },
      "execution_count": null,
      "outputs": [
        {
          "output_type": "stream",
          "name": "stderr",
          "text": [
            "/usr/local/lib/python3.10/dist-packages/ipykernel/ipkernel.py:283: DeprecationWarning: `should_run_async` will not call `transform_cell` automatically in the future. Please pass the result to `transformed_cell` argument and any exception that happen during thetransform in `preprocessing_exc_tuple` in IPython 7.17 and above.\n",
            "  and should_run_async(code)\n"
          ]
        }
      ]
    },
    {
      "cell_type": "code",
      "source": [
        "print(\"\\nStrong Association Rules with Confidence >= 80%:\")\n",
        "print(association_rules_df)"
      ],
      "metadata": {
        "colab": {
          "base_uri": "https://localhost:8080/"
        },
        "id": "ADdX9VcXIMf8",
        "outputId": "baced337-c27f-418a-af0d-5c10228ae5d1"
      },
      "execution_count": null,
      "outputs": [
        {
          "output_type": "stream",
          "name": "stdout",
          "text": [
            "\n",
            "Strong Association Rules with Confidence >= 80%:\n",
            "  antecedents consequents  antecedent support  consequent support  support  \\\n",
            "0         (K)         (E)                 1.0                 0.8      0.8   \n",
            "1         (E)         (K)                 0.8                 1.0      0.8   \n",
            "2         (O)         (E)                 0.6                 0.8      0.6   \n",
            "3         (M)         (K)                 0.6                 1.0      0.6   \n",
            "4         (O)         (K)                 0.6                 1.0      0.6   \n",
            "5         (Y)         (K)                 0.6                 1.0      0.6   \n",
            "6      (K, O)         (E)                 0.6                 0.8      0.6   \n",
            "7      (E, O)         (K)                 0.6                 1.0      0.6   \n",
            "8         (O)      (K, E)                 0.6                 0.8      0.6   \n",
            "\n",
            "   confidence  lift  leverage  conviction  zhangs_metric  \n",
            "0         0.8  1.00      0.00         1.0            0.0  \n",
            "1         1.0  1.00      0.00         inf            0.0  \n",
            "2         1.0  1.25      0.12         inf            0.5  \n",
            "3         1.0  1.00      0.00         inf            0.0  \n",
            "4         1.0  1.00      0.00         inf            0.0  \n",
            "5         1.0  1.00      0.00         inf            0.0  \n",
            "6         1.0  1.25      0.12         inf            0.5  \n",
            "7         1.0  1.00      0.00         inf            0.0  \n",
            "8         1.0  1.25      0.12         inf            0.5  \n"
          ]
        },
        {
          "output_type": "stream",
          "name": "stderr",
          "text": [
            "/usr/local/lib/python3.10/dist-packages/ipykernel/ipkernel.py:283: DeprecationWarning: `should_run_async` will not call `transform_cell` automatically in the future. Please pass the result to `transformed_cell` argument and any exception that happen during thetransform in `preprocessing_exc_tuple` in IPython 7.17 and above.\n",
            "  and should_run_async(code)\n"
          ]
        }
      ]
    }
  ]
}
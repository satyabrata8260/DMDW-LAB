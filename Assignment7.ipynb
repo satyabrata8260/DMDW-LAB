{
  "nbformat": 4,
  "nbformat_minor": 0,
  "metadata": {
    "colab": {
      "provenance": [],
      "include_colab_link": true
    },
    "kernelspec": {
      "name": "python3",
      "display_name": "Python 3"
    },
    "language_info": {
      "name": "python"
    }
  },
  "cells": [
    {
      "cell_type": "markdown",
      "metadata": {
        "id": "view-in-github",
        "colab_type": "text"
      },
      "source": [
        "<a href=\"https://colab.research.google.com/github/satyabrata8260/DMDW-LAB/blob/main/Assignment7.ipynb\" target=\"_parent\"><img src=\"https://colab.research.google.com/assets/colab-badge.svg\" alt=\"Open In Colab\"/></a>"
      ]
    },
    {
      "cell_type": "code",
      "execution_count": null,
      "metadata": {
        "id": "h73xk_c9BTgO"
      },
      "outputs": [],
      "source": [
        "import numpy as np\n",
        "import pandas as pd\n",
        "from sklearn.metrics import confusion_matrix\n",
        "from sklearn.model_selection import train_test_split\n",
        "from sklearn.tree import DecisionTreeClassifier\n",
        "from sklearn.metrics import accuracy_score\n",
        "from sklearn.metrics import classification_report"
      ]
    },
    {
      "cell_type": "code",
      "source": [
        "def importdata():\n",
        "    # balance_data =pd.read_csv(\"/content/balance-scale.csv\")\n",
        "    balance_data =pd.read_csv(  'https://archive.ics.uci.edu/ml/machine-learning-databases/balance-scale/balance-scale.data',sep=\",\",header=None)\n",
        "    print(\"Dataset Length:\", len(balance_data))\n",
        "    print(\"Dataset Shape:\", balance_data.shape)\n",
        "    print(\"Dataset:\",balance_data.head())\n",
        "    return balance_data\n"
      ],
      "metadata": {
        "id": "8YsXSpmZG9CQ"
      },
      "execution_count": null,
      "outputs": []
    },
    {
      "cell_type": "code",
      "source": [
        "def splitdataset(balance_data):\n",
        "    X =balance_data.values[:, 1:5]\n",
        "    Y =balance_data.values[:, 0]\n",
        "    X_train, X_test, y_train, y_test =train_test_split(X, Y, test_size =0.3, random_state =100)\n",
        "    return X, Y, X_train, X_test, y_train, y_test"
      ],
      "metadata": {
        "id": "fP0gABxWIpBp"
      },
      "execution_count": null,
      "outputs": []
    },
    {
      "cell_type": "code",
      "source": [
        "def train_using_gini(X_train, X_test, y_train):\n",
        "  clf_gini =DecisionTreeClassifier(criterion =\"gini\",random_state =100,max_depth=3, min_samples_leaf=5)\n",
        "  clf_gini.fit(X_train, y_train)\n",
        "  return clf_gini"
      ],
      "metadata": {
        "id": "E1t38v5wKv8R"
      },
      "execution_count": null,
      "outputs": []
    },
    {
      "cell_type": "code",
      "source": [
        "def tarin_using_entropy(X_train, X_test, y_train):\n",
        "  clf_entropy =DecisionTreeClassifier(criterion =\"entropy\", random_state =100,max_depth =3, min_samples_leaf =5)\n",
        "  clf_entropy.fit(X_train, y_train)\n",
        "  return clf_entropy"
      ],
      "metadata": {
        "id": "ihreMhOGLxZB"
      },
      "execution_count": null,
      "outputs": []
    },
    {
      "cell_type": "code",
      "source": [
        "def prediction(X_test, clf_object):\n",
        "  y_pred =clf_object.predict(X_test)\n",
        "  print(\"Predicted values:\")\n",
        "  print(y_pred)\n",
        "  return y_pred"
      ],
      "metadata": {
        "id": "Zq68iNAyMRyI"
      },
      "execution_count": null,
      "outputs": []
    },
    {
      "cell_type": "code",
      "source": [
        "def cal_accuracy(y_test, y_pred):\n",
        "  print(\"Confusion Matrix:\",confusion_matrix(y_test, y_pred))\n",
        "  print(\"Accuracy :\",accuracy_score(y_test,y_pred)*100)\n",
        "  print(\"Report :\",classification_report(y_test, y_pred))"
      ],
      "metadata": {
        "id": "CmWWvFl7MqJb"
      },
      "execution_count": null,
      "outputs": []
    },
    {
      "cell_type": "code",
      "source": [
        "def main():\n",
        "  data =importdata()\n",
        "  X, Y, X_train, X_test, y_train, y_test =splitdataset(data)\n",
        "  clf_gini =train_using_gini(X_train, X_test, y_train)\n",
        "  clf_entropy =tarin_using_entropy(X_train, X_test, y_train)\n",
        "  print(\"Results Using Gini Index:\")\n",
        "  y_pred_gini =prediction(X_test, clf_gini)\n",
        "  cal_accuracy(y_test, y_pred_gini)\n",
        "  print(\"Results Using Entropy:\")\n",
        "  y_pred_entropy =prediction(X_test, clf_entropy)\n",
        "  cal_accuracy(y_test, y_pred_entropy)"
      ],
      "metadata": {
        "id": "Cseb8BayO1F-"
      },
      "execution_count": null,
      "outputs": []
    },
    {
      "cell_type": "code",
      "source": [
        "if __name__==\"__main__\":\n",
        "  main()"
      ],
      "metadata": {
        "colab": {
          "base_uri": "https://localhost:8080/"
        },
        "id": "gpInx1xMPiF6",
        "outputId": "7b225c52-addc-4f12-a941-a819b1afd2a8"
      },
      "execution_count": null,
      "outputs": [
        {
          "output_type": "stream",
          "name": "stdout",
          "text": [
            "Dataset Length: 625\n",
            "Dataset Shape: (625, 5)\n",
            "Dataset:    0  1  2  3  4\n",
            "0  B  1  1  1  1\n",
            "1  R  1  1  1  2\n",
            "2  R  1  1  1  3\n",
            "3  R  1  1  1  4\n",
            "4  R  1  1  1  5\n",
            "Results Using Gini Index:\n",
            "Predicted values:\n",
            "['R' 'L' 'R' 'R' 'R' 'L' 'R' 'L' 'L' 'L' 'R' 'L' 'L' 'L' 'R' 'L' 'R' 'L'\n",
            " 'L' 'R' 'L' 'R' 'L' 'L' 'R' 'L' 'L' 'L' 'R' 'L' 'L' 'L' 'R' 'L' 'L' 'L'\n",
            " 'L' 'R' 'L' 'L' 'R' 'L' 'R' 'L' 'R' 'R' 'L' 'L' 'R' 'L' 'R' 'R' 'L' 'R'\n",
            " 'R' 'L' 'R' 'R' 'L' 'L' 'R' 'R' 'L' 'L' 'L' 'L' 'L' 'R' 'R' 'L' 'L' 'R'\n",
            " 'R' 'L' 'R' 'L' 'R' 'R' 'R' 'L' 'R' 'L' 'L' 'L' 'L' 'R' 'R' 'L' 'R' 'L'\n",
            " 'R' 'R' 'L' 'L' 'L' 'R' 'R' 'L' 'L' 'L' 'R' 'L' 'R' 'R' 'R' 'R' 'R' 'R'\n",
            " 'R' 'L' 'R' 'L' 'R' 'R' 'L' 'R' 'R' 'R' 'R' 'R' 'L' 'R' 'L' 'L' 'L' 'L'\n",
            " 'L' 'L' 'L' 'R' 'R' 'R' 'R' 'L' 'R' 'R' 'R' 'L' 'L' 'R' 'L' 'R' 'L' 'R'\n",
            " 'L' 'L' 'R' 'L' 'L' 'R' 'L' 'R' 'L' 'R' 'R' 'R' 'L' 'R' 'R' 'R' 'R' 'R'\n",
            " 'L' 'L' 'R' 'R' 'R' 'R' 'L' 'R' 'R' 'R' 'L' 'R' 'L' 'L' 'L' 'L' 'R' 'R'\n",
            " 'L' 'R' 'R' 'L' 'L' 'R' 'R' 'R']\n",
            "Confusion Matrix: [[ 0  6  7]\n",
            " [ 0 67 18]\n",
            " [ 0 19 71]]\n",
            "Accuracy : 73.40425531914893\n",
            "Report :               precision    recall  f1-score   support\n",
            "\n",
            "           B       0.00      0.00      0.00        13\n",
            "           L       0.73      0.79      0.76        85\n",
            "           R       0.74      0.79      0.76        90\n",
            "\n",
            "    accuracy                           0.73       188\n",
            "   macro avg       0.49      0.53      0.51       188\n",
            "weighted avg       0.68      0.73      0.71       188\n",
            "\n",
            "Results Using Entropy:\n",
            "Predicted values:\n",
            "['R' 'L' 'R' 'L' 'R' 'L' 'R' 'L' 'R' 'R' 'R' 'R' 'L' 'L' 'R' 'L' 'R' 'L'\n",
            " 'L' 'R' 'L' 'R' 'L' 'L' 'R' 'L' 'R' 'L' 'R' 'L' 'R' 'L' 'R' 'L' 'L' 'L'\n",
            " 'L' 'L' 'R' 'L' 'R' 'L' 'R' 'L' 'R' 'R' 'L' 'L' 'R' 'L' 'L' 'R' 'L' 'L'\n",
            " 'R' 'L' 'R' 'R' 'L' 'R' 'R' 'R' 'L' 'L' 'R' 'L' 'L' 'R' 'L' 'L' 'L' 'R'\n",
            " 'R' 'L' 'R' 'L' 'R' 'R' 'R' 'L' 'R' 'L' 'L' 'L' 'L' 'R' 'R' 'L' 'R' 'L'\n",
            " 'R' 'R' 'L' 'L' 'L' 'R' 'R' 'L' 'L' 'L' 'R' 'L' 'L' 'R' 'R' 'R' 'R' 'R'\n",
            " 'R' 'L' 'R' 'L' 'R' 'R' 'L' 'R' 'R' 'L' 'R' 'R' 'L' 'R' 'R' 'R' 'L' 'L'\n",
            " 'L' 'L' 'L' 'R' 'R' 'R' 'R' 'L' 'R' 'R' 'R' 'L' 'L' 'R' 'L' 'R' 'L' 'R'\n",
            " 'L' 'R' 'R' 'L' 'L' 'R' 'L' 'R' 'R' 'R' 'R' 'R' 'L' 'R' 'R' 'R' 'R' 'R'\n",
            " 'R' 'L' 'R' 'L' 'R' 'R' 'L' 'R' 'L' 'R' 'L' 'R' 'L' 'L' 'L' 'L' 'L' 'R'\n",
            " 'R' 'R' 'L' 'L' 'L' 'R' 'R' 'R']\n",
            "Confusion Matrix: [[ 0  6  7]\n",
            " [ 0 63 22]\n",
            " [ 0 20 70]]\n",
            "Accuracy : 70.74468085106383\n",
            "Report :               precision    recall  f1-score   support\n",
            "\n",
            "           B       0.00      0.00      0.00        13\n",
            "           L       0.71      0.74      0.72        85\n",
            "           R       0.71      0.78      0.74        90\n",
            "\n",
            "    accuracy                           0.71       188\n",
            "   macro avg       0.47      0.51      0.49       188\n",
            "weighted avg       0.66      0.71      0.68       188\n",
            "\n"
          ]
        },
        {
          "output_type": "stream",
          "name": "stderr",
          "text": [
            "/usr/local/lib/python3.10/dist-packages/sklearn/metrics/_classification.py:1344: UndefinedMetricWarning: Precision and F-score are ill-defined and being set to 0.0 in labels with no predicted samples. Use `zero_division` parameter to control this behavior.\n",
            "  _warn_prf(average, modifier, msg_start, len(result))\n",
            "/usr/local/lib/python3.10/dist-packages/sklearn/metrics/_classification.py:1344: UndefinedMetricWarning: Precision and F-score are ill-defined and being set to 0.0 in labels with no predicted samples. Use `zero_division` parameter to control this behavior.\n",
            "  _warn_prf(average, modifier, msg_start, len(result))\n",
            "/usr/local/lib/python3.10/dist-packages/sklearn/metrics/_classification.py:1344: UndefinedMetricWarning: Precision and F-score are ill-defined and being set to 0.0 in labels with no predicted samples. Use `zero_division` parameter to control this behavior.\n",
            "  _warn_prf(average, modifier, msg_start, len(result))\n",
            "/usr/local/lib/python3.10/dist-packages/sklearn/metrics/_classification.py:1344: UndefinedMetricWarning: Precision and F-score are ill-defined and being set to 0.0 in labels with no predicted samples. Use `zero_division` parameter to control this behavior.\n",
            "  _warn_prf(average, modifier, msg_start, len(result))\n",
            "/usr/local/lib/python3.10/dist-packages/sklearn/metrics/_classification.py:1344: UndefinedMetricWarning: Precision and F-score are ill-defined and being set to 0.0 in labels with no predicted samples. Use `zero_division` parameter to control this behavior.\n",
            "  _warn_prf(average, modifier, msg_start, len(result))\n",
            "/usr/local/lib/python3.10/dist-packages/sklearn/metrics/_classification.py:1344: UndefinedMetricWarning: Precision and F-score are ill-defined and being set to 0.0 in labels with no predicted samples. Use `zero_division` parameter to control this behavior.\n",
            "  _warn_prf(average, modifier, msg_start, len(result))\n"
          ]
        }
      ]
    }
  ]
}